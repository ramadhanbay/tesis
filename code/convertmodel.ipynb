{
 "cells": [
  {
   "cell_type": "code",
   "execution_count": 2,
   "metadata": {},
   "outputs": [],
   "source": [
    "import tensorflow as tf\n",
    "from tensorflow.keras import backend as K\n",
    "\n",
    "# Mendefinisikan fungsi F1_score\n",
    "def F1_score(y_true, y_pred): #taken from old keras source code\n",
    "    true_positives = K.sum(K.round(K.clip(y_true * y_pred, 0, 1)))\n",
    "    possible_positives = K.sum(K.round(K.clip(y_true, 0, 1)))\n",
    "    predicted_positives = K.sum(K.round(K.clip(y_pred, 0, 1)))\n",
    "    precision = true_positives / (predicted_positives + K.epsilon())\n",
    "    recall = true_positives / (possible_positives + K.epsilon())\n",
    "    f1_val = 2*(precision*recall)/(precision+recall+K.epsilon())\n",
    "    return f1_val"
   ]
  },
  {
   "cell_type": "code",
   "execution_count": 4,
   "metadata": {},
   "outputs": [
    {
     "name": "stderr",
     "output_type": "stream",
     "text": [
      "2024-09-15 17:38:01.081686: I tensorflow/core/common_runtime/executor.cc:1197] [/device:CPU:0] (DEBUG INFO) Executor start aborting (this does not indicate an error and you can ignore this message): INVALID_ARGUMENT: You must feed a value for placeholder tensor 'inputs' with dtype float and shape [?,256]\n",
      "\t [[{{node inputs}}]]\n",
      "2024-09-15 17:38:03.877628: I tensorflow/core/common_runtime/executor.cc:1197] [/device:CPU:0] (DEBUG INFO) Executor start aborting (this does not indicate an error and you can ignore this message): INVALID_ARGUMENT: You must feed a value for placeholder tensor 'inputs' with dtype float and shape [?,256]\n",
      "\t [[{{node inputs}}]]\n",
      "WARNING:absl:Found untraced functions such as _jit_compiled_convolution_op, _jit_compiled_convolution_op, _jit_compiled_convolution_op, _jit_compiled_convolution_op, _jit_compiled_convolution_op while saving (showing 5 of 62). These functions will not be directly callable after loading.\n"
     ]
    },
    {
     "name": "stdout",
     "output_type": "stream",
     "text": [
      "INFO:tensorflow:Assets written to: /var/folders/sj/68r__lxn6v93js8qv0d99x6h0000gn/T/tmptrfx0kz0/assets\n"
     ]
    },
    {
     "name": "stderr",
     "output_type": "stream",
     "text": [
      "INFO:tensorflow:Assets written to: /var/folders/sj/68r__lxn6v93js8qv0d99x6h0000gn/T/tmptrfx0kz0/assets\n",
      "2024-09-15 17:38:14.653728: W tensorflow/compiler/mlir/lite/python/tf_tfl_flatbuffer_helpers.cc:364] Ignored output_format.\n",
      "2024-09-15 17:38:14.653778: W tensorflow/compiler/mlir/lite/python/tf_tfl_flatbuffer_helpers.cc:367] Ignored drop_control_dependency.\n",
      "2024-09-15 17:38:14.655178: I tensorflow/cc/saved_model/reader.cc:45] Reading SavedModel from: /var/folders/sj/68r__lxn6v93js8qv0d99x6h0000gn/T/tmptrfx0kz0\n",
      "2024-09-15 17:38:14.677614: I tensorflow/cc/saved_model/reader.cc:89] Reading meta graph with tags { serve }\n",
      "2024-09-15 17:38:14.677631: I tensorflow/cc/saved_model/reader.cc:130] Reading SavedModel debug info (if present) from: /var/folders/sj/68r__lxn6v93js8qv0d99x6h0000gn/T/tmptrfx0kz0\n",
      "2024-09-15 17:38:14.778930: I tensorflow/cc/saved_model/loader.cc:231] Restoring SavedModel bundle.\n",
      "2024-09-15 17:38:15.591638: I tensorflow/cc/saved_model/loader.cc:215] Running initialization op on SavedModel bundle at path: /var/folders/sj/68r__lxn6v93js8qv0d99x6h0000gn/T/tmptrfx0kz0\n",
      "2024-09-15 17:38:15.782289: I tensorflow/cc/saved_model/loader.cc:314] SavedModel load for tags { serve }; Status: success: OK. Took 1124124 microseconds.\n"
     ]
    },
    {
     "data": {
      "text/plain": [
       "12887156"
      ]
     },
     "execution_count": 4,
     "metadata": {},
     "output_type": "execute_result"
    }
   ],
   "source": [
    "#store .h5 file in your .py folder\n",
    "\n",
    "#load h5 module\n",
    "model=tf.keras.models.load_model('/Volumes/DiskFile/Kuliah/tesis_code/ImageCrop/workspace/model/Model2PerioTfeidEpoch100Batch28-8-(224X224)-98.33.h5', custom_objects={'F1_score': F1_score})\n",
    "tflite_converter = tf.lite.TFLiteConverter.from_keras_model(model)\n",
    "\n",
    "#convert\n",
    "tflite_model = tflite_converter.convert()\n",
    "open(\"Model2PerioTfeidEpoch100Batch28.tflite\", \"wb\").write(tflite_model)\n",
    "\n",
    "#done convertion"
   ]
  }
 ],
 "metadata": {
  "kernelspec": {
   "display_name": "tesis",
   "language": "python",
   "name": "python3"
  },
  "language_info": {
   "codemirror_mode": {
    "name": "ipython",
    "version": 3
   },
   "file_extension": ".py",
   "mimetype": "text/x-python",
   "name": "python",
   "nbconvert_exporter": "python",
   "pygments_lexer": "ipython3",
   "version": "3.11.5"
  }
 },
 "nbformat": 4,
 "nbformat_minor": 2
}
