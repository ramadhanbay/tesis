{
 "cells": [
  {
   "cell_type": "code",
   "execution_count": 51,
   "metadata": {},
   "outputs": [
    {
     "ename": "SyntaxError",
     "evalue": "invalid syntax (2396195041.py, line 2)",
     "output_type": "error",
     "traceback": [
      "\u001b[0;36m  Cell \u001b[0;32mIn[51], line 2\u001b[0;36m\u001b[0m\n\u001b[0;31m    pip install imageio\u001b[0m\n\u001b[0m        ^\u001b[0m\n\u001b[0;31mSyntaxError\u001b[0m\u001b[0;31m:\u001b[0m invalid syntax\n"
     ]
    }
   ],
   "source": [
    "#pip install dlib\n"
   ]
  },
  {
   "cell_type": "code",
   "execution_count": 65,
   "metadata": {},
   "outputs": [],
   "source": [
    "from PIL import Image, ImageDraw\n",
    "import dlib"
   ]
  },
  {
   "cell_type": "code",
   "execution_count": 66,
   "metadata": {},
   "outputs": [],
   "source": [
    "def load_jpg(image_path):\n",
    "    try:\n",
    "        # Membuka gambar menggunakan PIL\n",
    "        image = Image.open(image_path).convert(\"RGB\")\n",
    "        print(\"Gambar berhasil dimuat.\")\n",
    "\n",
    "        # Menampilkan gambar (opsional)\n",
    "        image.show()\n",
    "\n",
    "        # Mengembalikan objek gambar\n",
    "        return image\n",
    "\n",
    "    except Exception as e:\n",
    "        print(\"Terjadi kesalahan:\", e)\n",
    "        return None"
   ]
  },
  {
   "cell_type": "code",
   "execution_count": 36,
   "metadata": {},
   "outputs": [],
   "source": [
    "def detect_landmarks(image_path):\n",
    "    # Memuat gambar\n",
    "    image = load_jpg(image_path)\n",
    "\n",
    "    if image:\n",
    "        # Mengonversi gambar ke dalam array NumPy\n",
    "        img_array = dlib.load_rgb_image(image_path)\n",
    "\n",
    "        # Menginisialisasi detector wajah\n",
    "        face_detector = dlib.get_frontal_face_detector()\n",
    "\n",
    "        # Mendeteksi wajah pada gambar\n",
    "        faces = face_detector(img_array)\n",
    "\n",
    "        # Menginisialisasi prediktor landmark wajah\n",
    "        landmark_predictor = dlib.shape_predictor(\"shape_predictor_68_face_landmarks.dat\")\n",
    "\n",
    "        for face in faces:\n",
    "            # Mendapatkan landmark wajah\n",
    "            landmarks = landmark_predictor(img_array, face)\n",
    "\n",
    "            # Menggambar landmark pada gambar\n",
    "            draw = ImageDraw.Draw(image)\n",
    "            for point in landmarks.parts():\n",
    "                draw.point((point.x, point.y), fill=\"red\")\n",
    "\n",
    "        # Menampilkan gambar dengan landmark (opsional)\n",
    "        image.show()"
   ]
  },
  {
   "cell_type": "code",
   "execution_count": 33,
   "metadata": {},
   "outputs": [],
   "source": [
    "def crop_eyes_and_eyebrows(image_path):\n",
    "    # Memuat gambar\n",
    "    image = load_jpg(image_path)\n",
    "\n",
    "    if image:\n",
    "        # Mengonversi gambar ke dalam array NumPy\n",
    "        img_array = dlib.load_rgb_image(image_path)\n",
    "\n",
    "        # Menginisialisasi detector wajah\n",
    "        face_detector = dlib.get_frontal_face_detector()\n",
    "\n",
    "        # Mendeteksi wajah pada gambar\n",
    "        faces = face_detector(img_array)\n",
    "\n",
    "        # Menginisialisasi prediktor landmark wajah\n",
    "        landmark_predictor = dlib.shape_predictor(\"shape_predictor_68_face_landmarks.dat\")\n",
    "\n",
    "        for face in faces:\n",
    "            # Mendapatkan landmark wajah\n",
    "            landmarks = landmark_predictor(img_array, face)\n",
    "\n",
    "            # Mendapatkan koordinat landmark untuk mata dan alis\n",
    "            left_eye_x = landmarks.part(36).x\n",
    "            left_eye_y = landmarks.part(37).y\n",
    "            right_eye_x = landmarks.part(39).x\n",
    "            right_eye_y = landmarks.part(41).y\n",
    "            left_eyebrow_x = landmarks.part(17).x  # Koordinat landmark alis kiri\n",
    "            left_eyebrow_y = landmarks.part(19).y\n",
    "            right_eyebrow_x = landmarks.part(26).x  # Koordinat landmark alis kanan\n",
    "            right_eyebrow_y = landmarks.part(24).y\n",
    "\n",
    "            # Menentukan batas crop untuk mata dan alis\n",
    "            top_margin = int((right_eyebrow_y - left_eyebrow_y) * 0.05)  # 5% dari tinggi alis\n",
    "            left_eye_bound = (left_eyebrow_x, left_eyebrow_y - top_margin)\n",
    "            right_eye_bound = (right_eyebrow_x, right_eyebrow_y - top_margin)\n",
    "            left_eyebrow_bound = (left_eyebrow_x, left_eyebrow_y)\n",
    "            right_eyebrow_bound = (right_eyebrow_x, right_eyebrow_y)\n",
    "\n",
    "            # Crop bagian mata dan alis dari gambar\n",
    "            eyes_eyebrows_image = image.crop((left_eye_bound[0], left_eye_bound[1], right_eye_bound[0], right_eye_bound[1]))\n",
    "\n",
    "            # Menampilkan gambar mata dan alis yang di-crop (opsional)\n",
    "            eyes_eyebrows_image.show()\n",
    "\n",
    "            # Simpan gambar mata dan alis yang di-crop\n",
    "            eyes_eyebrows_image.save(\"mata_alis_cropped.jpg\")"
   ]
  },
  {
   "cell_type": "code",
   "execution_count": 78,
   "metadata": {},
   "outputs": [],
   "source": [
    "def crop_face(image_path):\n",
    "    # Memuat gambar\n",
    "    image = load_jpg(image_path)\n",
    "\n",
    "    if image:\n",
    "        # Mengonversi gambar ke dalam array NumPy\n",
    "        img_array = dlib.load_rgb_image(image_path)\n",
    "\n",
    "        # Menginisialisasi detector wajah\n",
    "        face_detector = dlib.get_frontal_face_detector()\n",
    "\n",
    "        # Mendeteksi wajah pada gambar\n",
    "        faces = face_detector(img_array)\n",
    "\n",
    "        # Menginisialisasi prediktor landmark wajah\n",
    "        landmark_predictor = dlib.shape_predictor(\"shape_predictor_68_face_landmarks.dat\")\n",
    "\n",
    "        for face in faces:\n",
    "            # Mendapatkan landmark wajah\n",
    "            landmarks = landmark_predictor(img_array, face)\n",
    "\n",
    "            # Mendapatkan koordinat landmark untuk bagian wajah yang akan di-crop\n",
    "            left_eye_x = landmarks.part(36).x\n",
    "            left_eye_y = landmarks.part(37).y\n",
    "            right_eye_x = landmarks.part(39).x\n",
    "            right_eye_y = landmarks.part(41).y\n",
    "            left_eyebrow_x = landmarks.part(17).x  # Koordinat landmark alis kiri\n",
    "            left_eyebrow_y = landmarks.part(19).y\n",
    "            right_eyebrow_x = landmarks.part(26).x  # Koordinat landmark alis kanan\n",
    "            right_eyebrow_y = landmarks.part(24).y\n",
    "            nose_x = landmarks.part(30).x\n",
    "            nose_y = landmarks.part(30).y\n",
    "            ear_left_x = landmarks.part(0).x\n",
    "            ear_left_y = landmarks.part(0).y\n",
    "            ear_right_x = landmarks.part(16).x\n",
    "            ear_right_y = landmarks.part(16).y\n",
    "\n",
    "            # Menentukan batas crop untuk wajah\n",
    "            top_margin = int((right_eyebrow_y - left_eyebrow_y) * 1)  # 40% dari tinggi alis sebagai margin atas\n",
    "            left_bound = left_eyebrow_x - 30\n",
    "            right_bound = right_eyebrow_x + 30\n",
    "            top_bound = left_eyebrow_y - 20\n",
    "            bottom_bound = ear_left_y + (nose_y - ear_left_y)  # Menggunakan setengah hidung sebagai batas bawah\n",
    "\n",
    "            # Crop bagian wajah dari gambar\n",
    "            face_image = image.crop((left_bound, top_bound, right_bound, bottom_bound))\n",
    "\n",
    "            # Menampilkan gambar wajah yang di-crop (opsional)\n",
    "            face_image.show()\n",
    "\n",
    "            # Simpan gambar wajah yang di-crop\n",
    "            face_image.save(\"wajah_cropped.jpg\")"
   ]
  },
  {
   "cell_type": "code",
   "execution_count": 79,
   "metadata": {},
   "outputs": [
    {
     "name": "stdout",
     "output_type": "stream",
     "text": [
      "Gambar berhasil dimuat.\n"
     ]
    }
   ],
   "source": [
    "# Ganti path file dengan path gambar JPEG yang ingin Anda muat\n",
    "image_path = \"/Users/bayu/Library/CloudStorage/OneDrive-PTCitilinkIndonesia/kuliah/tesis/image/CS229/TFEID High/dfh_happiness_x/f02_dfh_hx.jpg\"\n",
    "\n",
    "# Memuat gambar\n",
    "crop_face(image_path)"
   ]
  },
  {
   "cell_type": "code",
   "execution_count": null,
   "metadata": {},
   "outputs": [],
   "source": []
  }
 ],
 "metadata": {
  "kernelspec": {
   "display_name": "kuliah",
   "language": "python",
   "name": "python3"
  },
  "language_info": {
   "codemirror_mode": {
    "name": "ipython",
    "version": 3
   },
   "file_extension": ".py",
   "mimetype": "text/x-python",
   "name": "python",
   "nbconvert_exporter": "python",
   "pygments_lexer": "ipython3",
   "version": "3.11.5"
  }
 },
 "nbformat": 4,
 "nbformat_minor": 2
}
