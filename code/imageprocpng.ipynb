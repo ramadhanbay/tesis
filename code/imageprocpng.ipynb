{
 "cells": [
  {
   "cell_type": "code",
   "execution_count": 1,
   "metadata": {},
   "outputs": [],
   "source": [
    "from PIL import Image, ImageDraw\n",
    "import dlib\n",
    "import imageio.v2 as imageio\n",
    "import os"
   ]
  },
  {
   "cell_type": "code",
   "execution_count": 5,
   "metadata": {},
   "outputs": [],
   "source": [
    "def load_png(image_path):\n",
    "    try:\n",
    "        # Membaca gambar menggunakan imageio\n",
    "        img_array = imageio.imread(image_path)\n",
    "        \n",
    "        # Mengembalikan array NumPy\n",
    "        return img_array\n",
    "\n",
    "    except Exception as e:\n",
    "        print(\"Terjadi kesalahan:\", e)\n",
    "        return None"
   ]
  },
  {
   "cell_type": "code",
   "execution_count": 6,
   "metadata": {},
   "outputs": [],
   "source": [
    "def crop_face_png(image_path, output_folder):\n",
    "    # Memuat gambar\n",
    "    img_array = load_png(image_path)\n",
    "\n",
    "    if img_array is not None:\n",
    "        # Menginisialisasi detector wajah\n",
    "        face_detector = dlib.get_frontal_face_detector()\n",
    "\n",
    "        # Mendeteksi wajah pada gambar\n",
    "        faces = face_detector(img_array)\n",
    "\n",
    "        # Menginisialisasi prediktor landmark wajah\n",
    "        landmark_predictor = dlib.shape_predictor(\"shape_predictor_68_face_landmarks.dat\")\n",
    "\n",
    "        for face in faces:\n",
    "            # Mendapatkan landmark wajah\n",
    "            landmarks = landmark_predictor(img_array, face)\n",
    "\n",
    "            # Mendapatkan koordinat landmark untuk bagian wajah yang akan di-crop\n",
    "            left_eye_x = landmarks.part(36).x\n",
    "            left_eye_y = landmarks.part(37).y\n",
    "            right_eye_x = landmarks.part(39).x\n",
    "            right_eye_y = landmarks.part(41).y\n",
    "            left_eyebrow_x = landmarks.part(17).x  # Koordinat landmark alis kiri\n",
    "            left_eyebrow_y = landmarks.part(19).y\n",
    "            right_eyebrow_x = landmarks.part(26).x  # Koordinat landmark alis kanan\n",
    "            right_eyebrow_y = landmarks.part(24).y\n",
    "            nose_x = landmarks.part(30).x\n",
    "            nose_y = landmarks.part(30).y\n",
    "            ear_left_x = landmarks.part(0).x\n",
    "            ear_left_y = landmarks.part(0).y\n",
    "            ear_right_x = landmarks.part(16).x\n",
    "            ear_right_y = landmarks.part(16).y\n",
    "\n",
    "            # Menentukan batas crop untuk wajah\n",
    "            top_margin = int((left_eyebrow_y) * 0.1)  # 20% dari tinggi alis sebagai margin atas\n",
    "            #left_bound = left_eyebrow_x\n",
    "            #right_bound = right_eyebrow_x\n",
    "            top_bound = left_eyebrow_y - top_margin\n",
    "            bottom_bound = ear_left_y + (nose_y - ear_left_y)  # Menggunakan setengah hidung sebagai batas bawah\n",
    "\n",
    "            # Mendapatkan batas gambar asli\n",
    "            original_width, original_height = img_array.shape[1], img_array.shape[0]\n",
    "\n",
    "            # Menentukan batas crop untuk wajah\n",
    "            left_bound = 0  # Batas kiri tidak boleh kurang dari 0\n",
    "            right_bound = original_width  # Batas kanan tidak boleh lebih dari lebar gambar\n",
    "\n",
    "            # Crop bagian wajah dari gambar\n",
    "            face_image = Image.fromarray(img_array[top_bound:bottom_bound, left_bound:right_bound])\n",
    "\n",
    "            # Menampilkan gambar wajah yang di-crop (opsional)\n",
    "            # face_image.show()\n",
    "\n",
    "            # Simpan gambar wajah yang di-crop ke folder yang sesuai\n",
    "            output_path = os.path.join(output_folder, os.path.basename(image_path))\n",
    "            face_image.save(output_path)"
   ]
  },
  {
   "cell_type": "code",
   "execution_count": null,
   "metadata": {},
   "outputs": [],
   "source": [
    "# Ganti path file dengan path gambar PNG yang ingin Anda muat\n",
    "image_path = \"/Users/bayu/Library/CloudStorage/OneDrive-PTCitilinkIndonesia/kuliah/tesis/image/CS229/CK+/happiness/S050_006_00000023.png\"\n",
    "rootFold = \"/Volumes/DiskFile/Kuliah/bahan thesis/ImageCrop/allwidth\"\n",
    "\n",
    "# Melakukan crop pada bagian wajah dari gambar\n",
    "crop_face_png(image_path, rootFold)"
   ]
  },
  {
   "cell_type": "code",
   "execution_count": 7,
   "metadata": {},
   "outputs": [],
   "source": [
    "# Fungsi untuk melakukan iterasi melalui semua folder dan gambar dalamnya\n",
    "def process_all_images(root_folder):\n",
    "    for foldername, subfolders, filenames in os.walk(root_folder):\n",
    "        for filename in filenames:\n",
    "            # Periksa apakah file memiliki ekstensi gambar yang diizinkan\n",
    "            if filename.lower().endswith(('.jpg', '.jpeg', '.png')):\n",
    "                # Buat path lengkap ke gambar\n",
    "                image_path = os.path.join(foldername, filename)\n",
    "\n",
    "                # Buat path folder output yang sesuai dengan folder asal\n",
    "                output_folder = os.path.join(\"/Volumes/DiskFile/Kuliah/tesis_code/ImageCrop/allwidth\", os.path.relpath(foldername, root_folder))\n",
    "\n",
    "                # Pastikan folder output sudah ada, jika belum, buat folder baru\n",
    "                os.makedirs(output_folder, exist_ok=True)\n",
    "\n",
    "                # Lakukan cropping pada gambar dan simpan hasil ke folder yang sesuai\n",
    "                crop_face_png(image_path, output_folder)\n",
    "                "
   ]
  },
  {
   "cell_type": "code",
   "execution_count": 8,
   "metadata": {},
   "outputs": [],
   "source": [
    "# Ganti path folder utama yang berisi semua subfolder dan gambar\n",
    "root_folder = \"/Users/bayu/Library/CloudStorage/OneDrive-PTCitilinkIndonesia/kuliah/tesis/image/CS229/CK+\"\n",
    "\n",
    "# Panggil fungsi untuk memproses semua gambar dalam folder\n",
    "process_all_images(root_folder)\n"
   ]
  }
 ],
 "metadata": {
  "kernelspec": {
   "display_name": "kuliah",
   "language": "python",
   "name": "python3"
  },
  "language_info": {
   "codemirror_mode": {
    "name": "ipython",
    "version": 3
   },
   "file_extension": ".py",
   "mimetype": "text/x-python",
   "name": "python",
   "nbconvert_exporter": "python",
   "pygments_lexer": "ipython3",
   "version": "3.11.5"
  }
 },
 "nbformat": 4,
 "nbformat_minor": 2
}
