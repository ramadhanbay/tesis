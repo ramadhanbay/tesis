{
 "cells": [
  {
   "cell_type": "code",
   "execution_count": 38,
   "metadata": {},
   "outputs": [],
   "source": [
    "import os\n",
    "import shutil\n",
    "from sklearn.model_selection import train_test_split\n",
    "import random\n",
    "\n",
    "# Path ke folder dataset\n",
    "dataset_dir = \"/Volumes/DiskFile/Kuliah/tesis_code/ImageCrop/allwidth\"\n",
    "dataset_dir_split = \"/Volumes/DiskFile/Kuliah/tesis_code/ImageCrop/allwidth_split\""
   ]
  },
  {
   "cell_type": "code",
   "execution_count": 42,
   "metadata": {},
   "outputs": [],
   "source": [
    "\n",
    "\n",
    "# Fungsi untuk membagi dataset menjadi train, validation, dan test\n",
    "def split_dataset(dataset_dir, train_ratio=0.7, val_ratio=0.15, test_ratio=0.15):\n",
    "    # Memastikan pembagian rasio tepat\n",
    "    assert train_ratio + val_ratio + test_ratio == 1.0\n",
    "\n",
    "    # Looping melalui semua folder dalam dataset\n",
    "    for root, dirs, files in os.walk(dataset_dir):\n",
    "        for dir_name in dirs:\n",
    "            subdir = os.path.join(root, dir_name)\n",
    "            # Membuat folder train, validation, dan test dalam setiap folder dataset\n",
    "            train_dir = os.path.join(dataset_dir_split, 'train', dir_name)\n",
    "            val_dir = os.path.join(dataset_dir_split, 'validation', dir_name)\n",
    "            test_dir = os.path.join(dataset_dir_split, 'test', dir_name)\n",
    "            os.makedirs(train_dir, exist_ok=True)\n",
    "            os.makedirs(val_dir, exist_ok=True)\n",
    "            os.makedirs(test_dir, exist_ok=True)\n",
    "            \n",
    "\n",
    "            # Mendapatkan daftar file dalam folder\n",
    "            files = os.listdir(subdir)\n",
    "            # Membagi dataset menjadi train, validation, dan test\n",
    "            train_files, test_val_files = train_test_split(files, test_size=val_ratio + test_ratio, random_state=42)\n",
    "            val_files, test_files = train_test_split(test_val_files, test_size=test_ratio / (val_ratio + test_ratio), random_state=42)\n",
    "\n",
    "            # Salin file ke folder train, validation, dan test\n",
    "            for file in train_files:\n",
    "                shutil.copy(os.path.join(subdir, file), os.path.join(train_dir, file))\n",
    "            for file in val_files:\n",
    "                shutil.copy(os.path.join(subdir, file), os.path.join(val_dir, file))\n",
    "            for file in test_files:\n",
    "                shutil.copy(os.path.join(subdir, file), os.path.join(test_dir, file))\n"
   ]
  },
  {
   "cell_type": "code",
   "execution_count": 43,
   "metadata": {},
   "outputs": [],
   "source": [
    "\n",
    "# Memanggil fungsi untuk membagi dataset\n",
    "split_dataset(dataset_dir)\n"
   ]
  }
 ],
 "metadata": {
  "kernelspec": {
   "display_name": "tesis",
   "language": "python",
   "name": "python3"
  },
  "language_info": {
   "codemirror_mode": {
    "name": "ipython",
    "version": 3
   },
   "file_extension": ".py",
   "mimetype": "text/x-python",
   "name": "python",
   "nbconvert_exporter": "python",
   "pygments_lexer": "ipython3",
   "version": "3.11.5"
  }
 },
 "nbformat": 4,
 "nbformat_minor": 2
}
