{
 "cells": [
  {
   "cell_type": "code",
   "execution_count": 1,
   "metadata": {},
   "outputs": [],
   "source": [
    "from tensorflow.keras.models import load_model\n",
    "from tensorflow.keras.metrics import Precision, Recall\n",
    "from tensorflow.keras import backend as K\n",
    "import cv2\n",
    "import numpy as np\n",
    "\n"
   ]
  },
  {
   "cell_type": "code",
   "execution_count": 2,
   "metadata": {},
   "outputs": [],
   "source": [
    "# Mendefinisikan fungsi F1_score\n",
    "def F1_score(y_true, y_pred): #taken from old keras source code\n",
    "    true_positives = K.sum(K.round(K.clip(y_true * y_pred, 0, 1)))\n",
    "    possible_positives = K.sum(K.round(K.clip(y_true, 0, 1)))\n",
    "    predicted_positives = K.sum(K.round(K.clip(y_pred, 0, 1)))\n",
    "    precision = true_positives / (predicted_positives + K.epsilon())\n",
    "    recall = true_positives / (possible_positives + K.epsilon())\n",
    "    f1_val = 2*(precision*recall)/(precision+recall+K.epsilon())\n",
    "    return f1_val"
   ]
  },
  {
   "cell_type": "code",
   "execution_count": 11,
   "metadata": {},
   "outputs": [
    {
     "name": "stdout",
     "output_type": "stream",
     "text": [
      "1/1 [==============================] - 0s 342ms/step\n",
      "[[0.8881059  0.00745068 0.02947999 0.01243625 0.01313687 0.02759704\n",
      "  0.01161662 0.0101767 ]]\n"
     ]
    }
   ],
   "source": [
    "# Membaca model dari file H5\n",
    "model = load_model('/Volumes/DiskFile/Kuliah/tesis_code/ImageCrop/workspace/Model1-8-(224X224)-80.45.h5', custom_objects={'F1_score': F1_score})\n",
    "\n",
    "# Membaca gambar PNG\n",
    "image = cv2.imread('/Volumes/DiskFile/Kuliah/tesis_code/ImageCrop/onlyface_split/validation/anger/S010_004_00000019.png')\n",
    "\n",
    "# Mempersiapkan data gambar untuk prediksi (contoh)\n",
    "# Pastikan untuk mengubah ukuran gambar dan normalisasi sesuai dengan yang digunakan saat melatih model\n",
    "image = cv2.resize(image, (224, 224))  # Ganti width dan height sesuai dengan ukuran input model\n",
    "#image = image / 255.0  # Normalisasi\n",
    "\n",
    "# Menambahkan dimensi tambahan untuk batch\n",
    "image = np.expand_dims(image, axis=0)\n",
    "\n",
    "# Melakukan prediksi\n",
    "predictions = model.predict(image)\n",
    "\n",
    "# Menampilkan hasil prediksi\n",
    "print(predictions)"
   ]
  }
 ],
 "metadata": {
  "kernelspec": {
   "display_name": "tesis",
   "language": "python",
   "name": "python3"
  },
  "language_info": {
   "codemirror_mode": {
    "name": "ipython",
    "version": 3
   },
   "file_extension": ".py",
   "mimetype": "text/x-python",
   "name": "python",
   "nbconvert_exporter": "python",
   "pygments_lexer": "ipython3",
   "version": "3.11.5"
  }
 },
 "nbformat": 4,
 "nbformat_minor": 2
}
