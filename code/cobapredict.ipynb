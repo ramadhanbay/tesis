{
 "cells": [
  {
   "cell_type": "code",
   "execution_count": 13,
   "metadata": {},
   "outputs": [],
   "source": [
    "from tensorflow.keras.models import load_model\n",
    "from tensorflow.keras.metrics import Precision, Recall\n",
    "from tensorflow.keras import backend as K\n",
    "import cv2\n",
    "import numpy as np\n",
    "\n"
   ]
  },
  {
   "cell_type": "code",
   "execution_count": 14,
   "metadata": {},
   "outputs": [],
   "source": [
    "# Mendefinisikan fungsi F1_score\n",
    "def F1_score(y_true, y_pred): #taken from old keras source code\n",
    "    true_positives = K.sum(K.round(K.clip(y_true * y_pred, 0, 1)))\n",
    "    possible_positives = K.sum(K.round(K.clip(y_true, 0, 1)))\n",
    "    predicted_positives = K.sum(K.round(K.clip(y_pred, 0, 1)))\n",
    "    precision = true_positives / (predicted_positives + K.epsilon())\n",
    "    recall = true_positives / (possible_positives + K.epsilon())\n",
    "    f1_val = 2*(precision*recall)/(precision+recall+K.epsilon())\n",
    "    return f1_val"
   ]
  },
  {
   "cell_type": "code",
   "execution_count": 16,
   "metadata": {},
   "outputs": [
    {
     "name": "stdout",
     "output_type": "stream",
     "text": [
      "WARNING:tensorflow:5 out of the last 5 calls to <function Model.make_predict_function.<locals>.predict_function at 0x29c181760> triggered tf.function retracing. Tracing is expensive and the excessive number of tracings could be due to (1) creating @tf.function repeatedly in a loop, (2) passing tensors with different shapes, (3) passing Python objects instead of tensors. For (1), please define your @tf.function outside of the loop. For (2), @tf.function has reduce_retracing=True option that can avoid unnecessary retracing. For (3), please refer to https://www.tensorflow.org/guide/function#controlling_retracing and https://www.tensorflow.org/api_docs/python/tf/function for  more details.\n",
      "1/1 [==============================] - 0s 349ms/step\n",
      "[[0.03642428 0.51893896 0.00776729 0.39247367 0.00762615 0.01713513\n",
      "  0.00908913 0.01054534]]\n"
     ]
    }
   ],
   "source": [
    "# Membaca model dari file H5\n",
    "model = load_model('/Volumes/DiskFile/Kuliah/tesis_code/ImageCrop/workspace/augEpoch100Batch20MobileNetV3-8-(224 X 224)- 79.55.h5', custom_objects={'F1_score': F1_score})\n",
    "\n",
    "# Membaca gambar PNG\n",
    "image = cv2.imread('/Volumes/DiskFile/Kuliah/tesis_code/ImageCrop/onlyface_split/test/sadness/S132_002_00000018.png')\n",
    "\n",
    "# Mempersiapkan data gambar untuk prediksi (contoh)\n",
    "# Pastikan untuk mengubah ukuran gambar dan normalisasi sesuai dengan yang digunakan saat melatih model\n",
    "image = cv2.resize(image, (224, 224))  # Ganti width dan height sesuai dengan ukuran input model\n",
    "image = image / 255.0  # Normalisasi\n",
    "\n",
    "# Menambahkan dimensi tambahan untuk batch\n",
    "image = np.expand_dims(image, axis=0)\n",
    "\n",
    "# Melakukan prediksi\n",
    "predictions = model.predict(image)\n",
    "\n",
    "# Menampilkan hasil prediksi\n",
    "print(predictions)"
   ]
  }
 ],
 "metadata": {
  "kernelspec": {
   "display_name": "tesis",
   "language": "python",
   "name": "python3"
  },
  "language_info": {
   "codemirror_mode": {
    "name": "ipython",
    "version": 3
   },
   "file_extension": ".py",
   "mimetype": "text/x-python",
   "name": "python",
   "nbconvert_exporter": "python",
   "pygments_lexer": "ipython3",
   "version": "3.11.5"
  }
 },
 "nbformat": 4,
 "nbformat_minor": 2
}
